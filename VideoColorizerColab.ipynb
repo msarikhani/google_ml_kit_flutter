{
  "cells": [
    {
      "cell_type": "markdown",
      "metadata": {
        "id": "view-in-github",
        "colab_type": "text"
      },
      "source": [
        "<a href=\"https://colab.research.google.com/github/msarikhani/google_ml_kit_flutter/blob/master/VideoColorizerColab.ipynb\" target=\"_parent\"><img src=\"https://colab.research.google.com/assets/colab-badge.svg\" alt=\"Open In Colab\"/></a>"
      ]
    },
    {
      "cell_type": "markdown",
      "metadata": {
        "id": "zoLm0TqTSqgG"
      },
      "source": [
        "### **<font color='blue'> Video Colorizer </font>**"
      ]
    },
    {
      "cell_type": "markdown",
      "metadata": {
        "id": "663IVxfrpIAb"
      },
      "source": [
        "#◢ DeOldify - Colorize your own videos!\n",
        "\n",
        "\n",
        "_FYI: This notebook is intended as a tool to colorize gifs and short videos, if you are trying to convert longer video you may hit the limit on processing space. Running the Jupyter notebook on your own machine is recommended (and faster) for larger video sizes._\n",
        "\n",
        "####**Credits:**\n",
        "\n",
        "Big special thanks to:\n",
        "\n",
        "Robert Bell for all his work on the video Colab notebook, and paving the way to video in DeOldify!\n",
        "\n",
        "Dana Kelley for doing things, breaking stuff & having an opinion on everything."
      ]
    },
    {
      "cell_type": "markdown",
      "metadata": {
        "id": "ZjPqTBNoohK9"
      },
      "source": [
        "\n",
        "\n",
        "---\n",
        "\n",
        "\n",
        "#◢ Verify Correct Runtime Settings\n",
        "\n",
        "**<font color='#FF000'> IMPORTANT </font>**\n",
        "\n",
        "In the \"Runtime\" menu for the notebook window, select \"Change runtime type.\" Ensure that the following are selected:\n",
        "* Runtime Type = Python 3\n",
        "* Hardware Accelerator = GPU\n"
      ]
    },
    {
      "cell_type": "markdown",
      "metadata": {
        "id": "gaEJBGDlptEo"
      },
      "source": [
        "#◢ Git clone and install DeOldify"
      ]
    },
    {
      "cell_type": "code",
      "execution_count": 2,
      "metadata": {
        "colab": {
          "base_uri": "https://localhost:8080/"
        },
        "id": "-T-svuHytJ-8",
        "outputId": "53a3e085-a24b-407c-fb10-6feaa38dc863"
      },
      "outputs": [
        {
          "output_type": "stream",
          "name": "stdout",
          "text": [
            "fatal: destination path 'DeOldify' already exists and is not an empty directory.\n"
          ]
        }
      ],
      "source": [
        "!git clone https://github.com/jantic/DeOldify.git DeOldify"
      ]
    },
    {
      "cell_type": "code",
      "execution_count": 6,
      "metadata": {
        "colab": {
          "base_uri": "https://localhost:8080/"
        },
        "id": "8x0Wfg7NSqgJ",
        "outputId": "6e50d143-13a2-45e8-e566-cd780837eebc"
      },
      "outputs": [
        {
          "output_type": "stream",
          "name": "stdout",
          "text": [
            "/content/DeOldify\n"
          ]
        }
      ],
      "source": [
        "%cd DeOldify"
      ]
    },
    {
      "cell_type": "markdown",
      "metadata": {
        "id": "BDFjbNxaadNJ"
      },
      "source": [
        "#◢ Setup"
      ]
    },
    {
      "cell_type": "code",
      "execution_count": 8,
      "metadata": {
        "id": "00_GcC_trpdE"
      },
      "outputs": [],
      "source": [
        "#NOTE:  This must be the first call in order to work properly!\n",
        "from deoldify import device\n",
        "from deoldify.device_id import DeviceId\n",
        "#choices:  CPU, GPU0...GPU7\n",
        "device.set(device=DeviceId.GPU0)\n",
        "\n",
        "import torch\n",
        "\n",
        "if not torch.cuda.is_available():\n",
        "    print('GPU not available.')\n",
        "\n",
        "from os import path"
      ]
    },
    {
      "cell_type": "code",
      "execution_count": 7,
      "metadata": {
        "colab": {
          "base_uri": "https://localhost:8080/"
        },
        "id": "Lsx7xCXNSVt6",
        "outputId": "b8da418f-96be-4162-b475-a98b9bee04c6"
      },
      "outputs": [
        {
          "output_type": "stream",
          "name": "stdout",
          "text": [
            "Requirement already satisfied: fastai==1.0.60 in /usr/local/lib/python3.12/dist-packages (from -r requirements-colab.txt (line 1)) (1.0.60)\n",
            "Requirement already satisfied: tensorboardX>=1.6 in /usr/local/lib/python3.12/dist-packages (from -r requirements-colab.txt (line 2)) (2.6.4)\n",
            "Requirement already satisfied: ffmpeg-python in /usr/local/lib/python3.12/dist-packages (from -r requirements-colab.txt (line 3)) (0.2.0)\n",
            "Requirement already satisfied: yt-dlp in /usr/local/lib/python3.12/dist-packages (from -r requirements-colab.txt (line 4)) (2025.9.26)\n",
            "Requirement already satisfied: opencv-python>=4.2.0.32 in /usr/local/lib/python3.12/dist-packages (from -r requirements-colab.txt (line 5)) (4.12.0.88)\n",
            "Requirement already satisfied: Pillow in /usr/local/lib/python3.12/dist-packages (from -r requirements-colab.txt (line 6)) (11.3.0)\n",
            "Requirement already satisfied: tornado in /usr/local/lib/python3.12/dist-packages (from -r requirements-colab.txt (line 7)) (6.4.2)\n",
            "Requirement already satisfied: imgaug==0.2.6 in /usr/local/lib/python3.12/dist-packages (from -r requirements-colab.txt (line 8)) (0.2.6)\n",
            "Requirement already satisfied: bottleneck in /usr/local/lib/python3.12/dist-packages (from fastai==1.0.60->-r requirements-colab.txt (line 1)) (1.4.2)\n",
            "Requirement already satisfied: fastprogress>=0.2.1 in /usr/local/lib/python3.12/dist-packages (from fastai==1.0.60->-r requirements-colab.txt (line 1)) (1.0.3)\n",
            "Requirement already satisfied: beautifulsoup4 in /usr/local/lib/python3.12/dist-packages (from fastai==1.0.60->-r requirements-colab.txt (line 1)) (4.13.5)\n",
            "Requirement already satisfied: matplotlib in /usr/local/lib/python3.12/dist-packages (from fastai==1.0.60->-r requirements-colab.txt (line 1)) (3.10.0)\n",
            "Requirement already satisfied: numexpr in /usr/local/lib/python3.12/dist-packages (from fastai==1.0.60->-r requirements-colab.txt (line 1)) (2.13.1)\n",
            "Requirement already satisfied: numpy>=1.15 in /usr/local/lib/python3.12/dist-packages (from fastai==1.0.60->-r requirements-colab.txt (line 1)) (2.0.2)\n",
            "Requirement already satisfied: nvidia-ml-py3 in /usr/local/lib/python3.12/dist-packages (from fastai==1.0.60->-r requirements-colab.txt (line 1)) (7.352.0)\n",
            "Requirement already satisfied: pandas in /usr/local/lib/python3.12/dist-packages (from fastai==1.0.60->-r requirements-colab.txt (line 1)) (2.2.2)\n",
            "Requirement already satisfied: packaging in /usr/local/lib/python3.12/dist-packages (from fastai==1.0.60->-r requirements-colab.txt (line 1)) (25.0)\n",
            "Requirement already satisfied: pyyaml in /usr/local/lib/python3.12/dist-packages (from fastai==1.0.60->-r requirements-colab.txt (line 1)) (6.0.3)\n",
            "Requirement already satisfied: requests in /usr/local/lib/python3.12/dist-packages (from fastai==1.0.60->-r requirements-colab.txt (line 1)) (2.32.4)\n",
            "Requirement already satisfied: scipy in /usr/local/lib/python3.12/dist-packages (from fastai==1.0.60->-r requirements-colab.txt (line 1)) (1.16.2)\n",
            "Requirement already satisfied: torch>=1.0.0 in /usr/local/lib/python3.12/dist-packages (from fastai==1.0.60->-r requirements-colab.txt (line 1)) (2.8.0+cu126)\n",
            "Requirement already satisfied: spacy>=2.0.18 in /usr/local/lib/python3.12/dist-packages (from fastai==1.0.60->-r requirements-colab.txt (line 1)) (3.8.7)\n",
            "Requirement already satisfied: torchvision in /usr/local/lib/python3.12/dist-packages (from fastai==1.0.60->-r requirements-colab.txt (line 1)) (0.23.0+cu126)\n",
            "Requirement already satisfied: scikit-image>=0.11.0 in /usr/local/lib/python3.12/dist-packages (from imgaug==0.2.6->-r requirements-colab.txt (line 8)) (0.25.2)\n",
            "Requirement already satisfied: six in /usr/local/lib/python3.12/dist-packages (from imgaug==0.2.6->-r requirements-colab.txt (line 8)) (1.17.0)\n",
            "Requirement already satisfied: protobuf>=3.20 in /usr/local/lib/python3.12/dist-packages (from tensorboardX>=1.6->-r requirements-colab.txt (line 2)) (5.29.5)\n",
            "Requirement already satisfied: future in /usr/local/lib/python3.12/dist-packages (from ffmpeg-python->-r requirements-colab.txt (line 3)) (1.0.0)\n",
            "Requirement already satisfied: networkx>=3.0 in /usr/local/lib/python3.12/dist-packages (from scikit-image>=0.11.0->imgaug==0.2.6->-r requirements-colab.txt (line 8)) (3.5)\n",
            "Requirement already satisfied: imageio!=2.35.0,>=2.33 in /usr/local/lib/python3.12/dist-packages (from scikit-image>=0.11.0->imgaug==0.2.6->-r requirements-colab.txt (line 8)) (2.37.0)\n",
            "Requirement already satisfied: tifffile>=2022.8.12 in /usr/local/lib/python3.12/dist-packages (from scikit-image>=0.11.0->imgaug==0.2.6->-r requirements-colab.txt (line 8)) (2025.9.30)\n",
            "Requirement already satisfied: lazy-loader>=0.4 in /usr/local/lib/python3.12/dist-packages (from scikit-image>=0.11.0->imgaug==0.2.6->-r requirements-colab.txt (line 8)) (0.4)\n",
            "Requirement already satisfied: spacy-legacy<3.1.0,>=3.0.11 in /usr/local/lib/python3.12/dist-packages (from spacy>=2.0.18->fastai==1.0.60->-r requirements-colab.txt (line 1)) (3.0.12)\n",
            "Requirement already satisfied: spacy-loggers<2.0.0,>=1.0.0 in /usr/local/lib/python3.12/dist-packages (from spacy>=2.0.18->fastai==1.0.60->-r requirements-colab.txt (line 1)) (1.0.5)\n",
            "Requirement already satisfied: murmurhash<1.1.0,>=0.28.0 in /usr/local/lib/python3.12/dist-packages (from spacy>=2.0.18->fastai==1.0.60->-r requirements-colab.txt (line 1)) (1.0.13)\n",
            "Requirement already satisfied: cymem<2.1.0,>=2.0.2 in /usr/local/lib/python3.12/dist-packages (from spacy>=2.0.18->fastai==1.0.60->-r requirements-colab.txt (line 1)) (2.0.11)\n",
            "Requirement already satisfied: preshed<3.1.0,>=3.0.2 in /usr/local/lib/python3.12/dist-packages (from spacy>=2.0.18->fastai==1.0.60->-r requirements-colab.txt (line 1)) (3.0.10)\n",
            "Requirement already satisfied: thinc<8.4.0,>=8.3.4 in /usr/local/lib/python3.12/dist-packages (from spacy>=2.0.18->fastai==1.0.60->-r requirements-colab.txt (line 1)) (8.3.6)\n",
            "Requirement already satisfied: wasabi<1.2.0,>=0.9.1 in /usr/local/lib/python3.12/dist-packages (from spacy>=2.0.18->fastai==1.0.60->-r requirements-colab.txt (line 1)) (1.1.3)\n",
            "Requirement already satisfied: srsly<3.0.0,>=2.4.3 in /usr/local/lib/python3.12/dist-packages (from spacy>=2.0.18->fastai==1.0.60->-r requirements-colab.txt (line 1)) (2.5.1)\n",
            "Requirement already satisfied: catalogue<2.1.0,>=2.0.6 in /usr/local/lib/python3.12/dist-packages (from spacy>=2.0.18->fastai==1.0.60->-r requirements-colab.txt (line 1)) (2.0.10)\n",
            "Requirement already satisfied: weasel<0.5.0,>=0.1.0 in /usr/local/lib/python3.12/dist-packages (from spacy>=2.0.18->fastai==1.0.60->-r requirements-colab.txt (line 1)) (0.4.1)\n",
            "Requirement already satisfied: typer<1.0.0,>=0.3.0 in /usr/local/lib/python3.12/dist-packages (from spacy>=2.0.18->fastai==1.0.60->-r requirements-colab.txt (line 1)) (0.19.2)\n",
            "Requirement already satisfied: tqdm<5.0.0,>=4.38.0 in /usr/local/lib/python3.12/dist-packages (from spacy>=2.0.18->fastai==1.0.60->-r requirements-colab.txt (line 1)) (4.67.1)\n",
            "Requirement already satisfied: pydantic!=1.8,!=1.8.1,<3.0.0,>=1.7.4 in /usr/local/lib/python3.12/dist-packages (from spacy>=2.0.18->fastai==1.0.60->-r requirements-colab.txt (line 1)) (2.11.9)\n",
            "Requirement already satisfied: jinja2 in /usr/local/lib/python3.12/dist-packages (from spacy>=2.0.18->fastai==1.0.60->-r requirements-colab.txt (line 1)) (3.1.6)\n",
            "Requirement already satisfied: setuptools in /usr/local/lib/python3.12/dist-packages (from spacy>=2.0.18->fastai==1.0.60->-r requirements-colab.txt (line 1)) (75.2.0)\n",
            "Requirement already satisfied: langcodes<4.0.0,>=3.2.0 in /usr/local/lib/python3.12/dist-packages (from spacy>=2.0.18->fastai==1.0.60->-r requirements-colab.txt (line 1)) (3.5.0)\n",
            "Requirement already satisfied: charset_normalizer<4,>=2 in /usr/local/lib/python3.12/dist-packages (from requests->fastai==1.0.60->-r requirements-colab.txt (line 1)) (3.4.3)\n",
            "Requirement already satisfied: idna<4,>=2.5 in /usr/local/lib/python3.12/dist-packages (from requests->fastai==1.0.60->-r requirements-colab.txt (line 1)) (3.10)\n",
            "Requirement already satisfied: urllib3<3,>=1.21.1 in /usr/local/lib/python3.12/dist-packages (from requests->fastai==1.0.60->-r requirements-colab.txt (line 1)) (2.5.0)\n",
            "Requirement already satisfied: certifi>=2017.4.17 in /usr/local/lib/python3.12/dist-packages (from requests->fastai==1.0.60->-r requirements-colab.txt (line 1)) (2025.8.3)\n",
            "Requirement already satisfied: filelock in /usr/local/lib/python3.12/dist-packages (from torch>=1.0.0->fastai==1.0.60->-r requirements-colab.txt (line 1)) (3.19.1)\n",
            "Requirement already satisfied: typing-extensions>=4.10.0 in /usr/local/lib/python3.12/dist-packages (from torch>=1.0.0->fastai==1.0.60->-r requirements-colab.txt (line 1)) (4.15.0)\n",
            "Requirement already satisfied: sympy>=1.13.3 in /usr/local/lib/python3.12/dist-packages (from torch>=1.0.0->fastai==1.0.60->-r requirements-colab.txt (line 1)) (1.13.3)\n",
            "Requirement already satisfied: fsspec in /usr/local/lib/python3.12/dist-packages (from torch>=1.0.0->fastai==1.0.60->-r requirements-colab.txt (line 1)) (2025.3.0)\n",
            "Requirement already satisfied: nvidia-cuda-nvrtc-cu12==12.6.77 in /usr/local/lib/python3.12/dist-packages (from torch>=1.0.0->fastai==1.0.60->-r requirements-colab.txt (line 1)) (12.6.77)\n",
            "Requirement already satisfied: nvidia-cuda-runtime-cu12==12.6.77 in /usr/local/lib/python3.12/dist-packages (from torch>=1.0.0->fastai==1.0.60->-r requirements-colab.txt (line 1)) (12.6.77)\n",
            "Requirement already satisfied: nvidia-cuda-cupti-cu12==12.6.80 in /usr/local/lib/python3.12/dist-packages (from torch>=1.0.0->fastai==1.0.60->-r requirements-colab.txt (line 1)) (12.6.80)\n",
            "Requirement already satisfied: nvidia-cudnn-cu12==9.10.2.21 in /usr/local/lib/python3.12/dist-packages (from torch>=1.0.0->fastai==1.0.60->-r requirements-colab.txt (line 1)) (9.10.2.21)\n",
            "Requirement already satisfied: nvidia-cublas-cu12==12.6.4.1 in /usr/local/lib/python3.12/dist-packages (from torch>=1.0.0->fastai==1.0.60->-r requirements-colab.txt (line 1)) (12.6.4.1)\n",
            "Requirement already satisfied: nvidia-cufft-cu12==11.3.0.4 in /usr/local/lib/python3.12/dist-packages (from torch>=1.0.0->fastai==1.0.60->-r requirements-colab.txt (line 1)) (11.3.0.4)\n",
            "Requirement already satisfied: nvidia-curand-cu12==10.3.7.77 in /usr/local/lib/python3.12/dist-packages (from torch>=1.0.0->fastai==1.0.60->-r requirements-colab.txt (line 1)) (10.3.7.77)\n",
            "Requirement already satisfied: nvidia-cusolver-cu12==11.7.1.2 in /usr/local/lib/python3.12/dist-packages (from torch>=1.0.0->fastai==1.0.60->-r requirements-colab.txt (line 1)) (11.7.1.2)\n",
            "Requirement already satisfied: nvidia-cusparse-cu12==12.5.4.2 in /usr/local/lib/python3.12/dist-packages (from torch>=1.0.0->fastai==1.0.60->-r requirements-colab.txt (line 1)) (12.5.4.2)\n",
            "Requirement already satisfied: nvidia-cusparselt-cu12==0.7.1 in /usr/local/lib/python3.12/dist-packages (from torch>=1.0.0->fastai==1.0.60->-r requirements-colab.txt (line 1)) (0.7.1)\n",
            "Requirement already satisfied: nvidia-nccl-cu12==2.27.3 in /usr/local/lib/python3.12/dist-packages (from torch>=1.0.0->fastai==1.0.60->-r requirements-colab.txt (line 1)) (2.27.3)\n",
            "Requirement already satisfied: nvidia-nvtx-cu12==12.6.77 in /usr/local/lib/python3.12/dist-packages (from torch>=1.0.0->fastai==1.0.60->-r requirements-colab.txt (line 1)) (12.6.77)\n",
            "Requirement already satisfied: nvidia-nvjitlink-cu12==12.6.85 in /usr/local/lib/python3.12/dist-packages (from torch>=1.0.0->fastai==1.0.60->-r requirements-colab.txt (line 1)) (12.6.85)\n",
            "Requirement already satisfied: nvidia-cufile-cu12==1.11.1.6 in /usr/local/lib/python3.12/dist-packages (from torch>=1.0.0->fastai==1.0.60->-r requirements-colab.txt (line 1)) (1.11.1.6)\n",
            "Requirement already satisfied: triton==3.4.0 in /usr/local/lib/python3.12/dist-packages (from torch>=1.0.0->fastai==1.0.60->-r requirements-colab.txt (line 1)) (3.4.0)\n",
            "Requirement already satisfied: soupsieve>1.2 in /usr/local/lib/python3.12/dist-packages (from beautifulsoup4->fastai==1.0.60->-r requirements-colab.txt (line 1)) (2.8)\n",
            "Requirement already satisfied: contourpy>=1.0.1 in /usr/local/lib/python3.12/dist-packages (from matplotlib->fastai==1.0.60->-r requirements-colab.txt (line 1)) (1.3.3)\n",
            "Requirement already satisfied: cycler>=0.10 in /usr/local/lib/python3.12/dist-packages (from matplotlib->fastai==1.0.60->-r requirements-colab.txt (line 1)) (0.12.1)\n",
            "Requirement already satisfied: fonttools>=4.22.0 in /usr/local/lib/python3.12/dist-packages (from matplotlib->fastai==1.0.60->-r requirements-colab.txt (line 1)) (4.60.1)\n",
            "Requirement already satisfied: kiwisolver>=1.3.1 in /usr/local/lib/python3.12/dist-packages (from matplotlib->fastai==1.0.60->-r requirements-colab.txt (line 1)) (1.4.9)\n",
            "Requirement already satisfied: pyparsing>=2.3.1 in /usr/local/lib/python3.12/dist-packages (from matplotlib->fastai==1.0.60->-r requirements-colab.txt (line 1)) (3.2.5)\n",
            "Requirement already satisfied: python-dateutil>=2.7 in /usr/local/lib/python3.12/dist-packages (from matplotlib->fastai==1.0.60->-r requirements-colab.txt (line 1)) (2.9.0.post0)\n",
            "Requirement already satisfied: pytz>=2020.1 in /usr/local/lib/python3.12/dist-packages (from pandas->fastai==1.0.60->-r requirements-colab.txt (line 1)) (2025.2)\n",
            "Requirement already satisfied: tzdata>=2022.7 in /usr/local/lib/python3.12/dist-packages (from pandas->fastai==1.0.60->-r requirements-colab.txt (line 1)) (2025.2)\n",
            "Requirement already satisfied: language-data>=1.2 in /usr/local/lib/python3.12/dist-packages (from langcodes<4.0.0,>=3.2.0->spacy>=2.0.18->fastai==1.0.60->-r requirements-colab.txt (line 1)) (1.3.0)\n",
            "Requirement already satisfied: annotated-types>=0.6.0 in /usr/local/lib/python3.12/dist-packages (from pydantic!=1.8,!=1.8.1,<3.0.0,>=1.7.4->spacy>=2.0.18->fastai==1.0.60->-r requirements-colab.txt (line 1)) (0.7.0)\n",
            "Requirement already satisfied: pydantic-core==2.33.2 in /usr/local/lib/python3.12/dist-packages (from pydantic!=1.8,!=1.8.1,<3.0.0,>=1.7.4->spacy>=2.0.18->fastai==1.0.60->-r requirements-colab.txt (line 1)) (2.33.2)\n",
            "Requirement already satisfied: typing-inspection>=0.4.0 in /usr/local/lib/python3.12/dist-packages (from pydantic!=1.8,!=1.8.1,<3.0.0,>=1.7.4->spacy>=2.0.18->fastai==1.0.60->-r requirements-colab.txt (line 1)) (0.4.2)\n",
            "Requirement already satisfied: mpmath<1.4,>=1.1.0 in /usr/local/lib/python3.12/dist-packages (from sympy>=1.13.3->torch>=1.0.0->fastai==1.0.60->-r requirements-colab.txt (line 1)) (1.3.0)\n",
            "Requirement already satisfied: blis<1.4.0,>=1.3.0 in /usr/local/lib/python3.12/dist-packages (from thinc<8.4.0,>=8.3.4->spacy>=2.0.18->fastai==1.0.60->-r requirements-colab.txt (line 1)) (1.3.0)\n",
            "Requirement already satisfied: confection<1.0.0,>=0.0.1 in /usr/local/lib/python3.12/dist-packages (from thinc<8.4.0,>=8.3.4->spacy>=2.0.18->fastai==1.0.60->-r requirements-colab.txt (line 1)) (0.1.5)\n",
            "Requirement already satisfied: click>=8.0.0 in /usr/local/lib/python3.12/dist-packages (from typer<1.0.0,>=0.3.0->spacy>=2.0.18->fastai==1.0.60->-r requirements-colab.txt (line 1)) (8.3.0)\n",
            "Requirement already satisfied: shellingham>=1.3.0 in /usr/local/lib/python3.12/dist-packages (from typer<1.0.0,>=0.3.0->spacy>=2.0.18->fastai==1.0.60->-r requirements-colab.txt (line 1)) (1.5.4)\n",
            "Requirement already satisfied: rich>=10.11.0 in /usr/local/lib/python3.12/dist-packages (from typer<1.0.0,>=0.3.0->spacy>=2.0.18->fastai==1.0.60->-r requirements-colab.txt (line 1)) (13.9.4)\n",
            "Requirement already satisfied: cloudpathlib<1.0.0,>=0.7.0 in /usr/local/lib/python3.12/dist-packages (from weasel<0.5.0,>=0.1.0->spacy>=2.0.18->fastai==1.0.60->-r requirements-colab.txt (line 1)) (0.22.0)\n",
            "Requirement already satisfied: smart-open<8.0.0,>=5.2.1 in /usr/local/lib/python3.12/dist-packages (from weasel<0.5.0,>=0.1.0->spacy>=2.0.18->fastai==1.0.60->-r requirements-colab.txt (line 1)) (7.3.1)\n",
            "Requirement already satisfied: MarkupSafe>=2.0 in /usr/local/lib/python3.12/dist-packages (from jinja2->spacy>=2.0.18->fastai==1.0.60->-r requirements-colab.txt (line 1)) (3.0.3)\n",
            "Requirement already satisfied: marisa-trie>=1.1.0 in /usr/local/lib/python3.12/dist-packages (from language-data>=1.2->langcodes<4.0.0,>=3.2.0->spacy>=2.0.18->fastai==1.0.60->-r requirements-colab.txt (line 1)) (1.3.1)\n",
            "Requirement already satisfied: markdown-it-py>=2.2.0 in /usr/local/lib/python3.12/dist-packages (from rich>=10.11.0->typer<1.0.0,>=0.3.0->spacy>=2.0.18->fastai==1.0.60->-r requirements-colab.txt (line 1)) (4.0.0)\n",
            "Requirement already satisfied: pygments<3.0.0,>=2.13.0 in /usr/local/lib/python3.12/dist-packages (from rich>=10.11.0->typer<1.0.0,>=0.3.0->spacy>=2.0.18->fastai==1.0.60->-r requirements-colab.txt (line 1)) (2.19.2)\n",
            "Requirement already satisfied: wrapt in /usr/local/lib/python3.12/dist-packages (from smart-open<8.0.0,>=5.2.1->weasel<0.5.0,>=0.1.0->spacy>=2.0.18->fastai==1.0.60->-r requirements-colab.txt (line 1)) (1.17.3)\n",
            "Requirement already satisfied: mdurl~=0.1 in /usr/local/lib/python3.12/dist-packages (from markdown-it-py>=2.2.0->rich>=10.11.0->typer<1.0.0,>=0.3.0->spacy>=2.0.18->fastai==1.0.60->-r requirements-colab.txt (line 1)) (0.1.2)\n"
          ]
        }
      ],
      "source": [
        "!pip install -r requirements-colab.txt"
      ]
    },
    {
      "cell_type": "code",
      "execution_count": 9,
      "metadata": {
        "colab": {
          "base_uri": "https://localhost:8080/"
        },
        "id": "MsJa69CMwj3l",
        "outputId": "5c129ce4-d36d-4be0-cfa4-7b4589e5843b"
      },
      "outputs": [
        {
          "output_type": "stream",
          "name": "stderr",
          "text": [
            "/content/DeOldify/deoldify/visualize.py:223: SyntaxWarning: invalid escape sequence '\\.'\n",
            "  if re.search('.*?\\.jpg', f):\n",
            "INFO:numexpr.utils:NumExpr defaulting to 2 threads.\n"
          ]
        },
        {
          "output_type": "stream",
          "name": "stdout",
          "text": [
            "NumExpr defaulting to 2 threads.\n"
          ]
        },
        {
          "output_type": "stream",
          "name": "stderr",
          "text": [
            "/content/DeOldify/fastai/gen_doc/gen_notebooks.py:63: SyntaxWarning: invalid escape sequence '\\s'\n",
            "  match = re.match(f\"^({key})\\s*=\\s*.*\", codestr)\n",
            "/content/DeOldify/fastai/gen_doc/gen_notebooks.py:216: SyntaxWarning: invalid escape sequence '\\('\n",
            "  if re.search(f\"update_nb_metadata\\('{fn}'\", c['source']): return c\n",
            "/content/DeOldify/fastai/gen_doc/nbdoc.py:26: SyntaxWarning: invalid escape sequence '\\*'\n",
            "  arg_prefixes = {inspect._VAR_POSITIONAL: '\\*', inspect._VAR_KEYWORD:'\\*\\*'}\n",
            "/content/DeOldify/fastai/gen_doc/nbdoc.py:26: SyntaxWarning: invalid escape sequence '\\*'\n",
            "  arg_prefixes = {inspect._VAR_POSITIONAL: '\\*', inspect._VAR_KEYWORD:'\\*\\*'}\n",
            "/content/DeOldify/fastai/gen_doc/nbdoc.py:56: SyntaxWarning: invalid escape sequence '\\['\n",
            "  return f'`Optional`\\[{type_repr(args[0])}\\]'\n",
            "/content/DeOldify/fastai/gen_doc/nbdoc.py:56: SyntaxWarning: invalid escape sequence '\\]'\n",
            "  return f'`Optional`\\[{type_repr(args[0])}\\]'\n",
            "/content/DeOldify/fastai/gen_doc/nbdoc.py:58: SyntaxWarning: invalid escape sequence '\\['\n",
            "  return f'{link_type(t)}\\[{reprs}\\]'\n",
            "/content/DeOldify/fastai/gen_doc/nbdoc.py:58: SyntaxWarning: invalid escape sequence '\\]'\n",
            "  return f'{link_type(t)}\\[{reprs}\\]'\n",
            "/content/DeOldify/fastai/gen_doc/nbdoc.py:172: SyntaxWarning: invalid escape sequence '\\['\n",
            "  BT_REGEX = re.compile(\"\\[`([^`]*)`\\](?:\\([^)]*\\))|`([^`]*)`\") # matches [`key`](link) or `key`\n",
            "/content/DeOldify/fastai/gen_doc/docstrings.py:26: SyntaxWarning: invalid escape sequence '\\*'\n",
            "  NEW_REGEX = re.compile(f\":(?P<field>{FIELDS}) (?P<name>[\\*\\w]+): (?P<doc>.*?)\"\n",
            "/content/DeOldify/fastai/gen_doc/docstrings.py:27: SyntaxWarning: invalid escape sequence '\\Z'\n",
            "  f\"(?:(?=:(?:{FIELDS}|return|raises))|\\Z)\", re.S)\n",
            "/content/DeOldify/fastai/gen_doc/nbtest.py:111: SyntaxWarning: invalid escape sequence '\\w'\n",
            "  exact_re = '' if exact_match else '\\w*'\n",
            "/content/DeOldify/fastai/gen_doc/nbtest.py:112: SyntaxWarning: invalid escape sequence '\\w'\n",
            "  return re.match(f'test_{subdir}\\w*{Path(fp).stem}{exact_re}\\.py', file_name)\n",
            "/content/DeOldify/fastai/gen_doc/nbtest.py:112: SyntaxWarning: invalid escape sequence '\\.'\n",
            "  return re.match(f'test_{subdir}\\w*{Path(fp).stem}{exact_re}\\.py', file_name)\n",
            "/content/DeOldify/fastai/gen_doc/nbtest.py:155: SyntaxWarning: invalid escape sequence '\\s'\n",
            "  if re.match(f'.*[\\s\\.\\(]{fn_name}[\\.\\(]', line):\n",
            "/content/DeOldify/fastai/gen_doc/nbtest.py:155: SyntaxWarning: invalid escape sequence '\\.'\n",
            "  if re.match(f'.*[\\s\\.\\(]{fn_name}[\\.\\(]', line):\n",
            "/content/DeOldify/fastai/gen_doc/nbtest.py:164: SyntaxWarning: invalid escape sequence '\\s'\n",
            "  test_name = re.match(f'\\s*def (test_\\w*)', line_text).groups(0)[0]\n",
            "/content/DeOldify/fastai/gen_doc/doctest.py:121: SyntaxWarning: invalid escape sequence '\\s'\n",
            "  if re.match(f'\\s*def test', l):  return (lineno - idx), l # 1 based index for github\n",
            "/content/DeOldify/fastai/gen_doc/doctest.py:122: SyntaxWarning: invalid escape sequence '\\w'\n",
            "  if re.match(f'\\w+', l):  break # top level indent - out of function scope\n"
          ]
        }
      ],
      "source": [
        "import fastai\n",
        "from deoldify.visualize import *\n",
        "from pathlib import Path\n",
        "torch.backends.cudnn.benchmark=True\n",
        "import warnings\n",
        "warnings.filterwarnings(\"ignore\", category=UserWarning, message=\".*?Your .*? set is empty.*?\")"
      ]
    },
    {
      "cell_type": "code",
      "execution_count": 10,
      "metadata": {
        "colab": {
          "base_uri": "https://localhost:8080/"
        },
        "id": "7OSj2A7BSqgK",
        "outputId": "565523a5-8b1e-46a0-f4d8-0058ded2ca17"
      },
      "outputs": [
        {
          "output_type": "stream",
          "name": "stdout",
          "text": [
            "mkdir: cannot create directory ‘models’: File exists\n",
            "--2025-10-07 11:08:22--  https://data.deepai.org/deoldify/ColorizeVideo_gen.pth\n",
            "Resolving data.deepai.org (data.deepai.org)... 84.17.38.230, 2400:52e0:1500::1181:1\n",
            "Connecting to data.deepai.org (data.deepai.org)|84.17.38.230|:443... connected.\n",
            "HTTP request sent, awaiting response... 200 OK\n",
            "Length: 874066230 (834M) [application/octet-stream]\n",
            "Saving to: ‘./models/ColorizeVideo_gen.pth’\n",
            "\n",
            "./models/ColorizeVi 100%[===================>] 833.57M  4.92MB/s    in 2m 50s  \n",
            "\n",
            "2025-10-07 11:11:12 (4.89 MB/s) - ‘./models/ColorizeVideo_gen.pth’ saved [874066230/874066230]\n",
            "\n"
          ]
        }
      ],
      "source": [
        "!mkdir 'models'\n",
        "!wget https://data.deepai.org/deoldify/ColorizeVideo_gen.pth -O ./models/ColorizeVideo_gen.pth"
      ]
    },
    {
      "cell_type": "code",
      "execution_count": 14,
      "metadata": {
        "colab": {
          "base_uri": "https://localhost:8080/",
          "height": 867
        },
        "id": "tzHVnegp21hC",
        "outputId": "48ebd1cf-81ff-45e5-f0d5-a0c786ac8c61"
      },
      "outputs": [
        {
          "output_type": "stream",
          "name": "stderr",
          "text": [
            "/usr/local/lib/python3.12/dist-packages/torch/utils/data/dataloader.py:627: UserWarning: This DataLoader will create 8 worker processes in total. Our suggested max number of worker in current system is 2, which is smaller than what this DataLoader is going to create. Please be aware that excessive worker creation might get DataLoader running slow or even freeze, lower the worker number to avoid potential slowness/freeze if necessary.\n",
            "  warnings.warn(\n",
            "/usr/local/lib/python3.12/dist-packages/torchvision/models/_utils.py:208: UserWarning: The parameter 'pretrained' is deprecated since 0.13 and may be removed in the future, please use 'weights' instead.\n",
            "  warnings.warn(\n",
            "/usr/local/lib/python3.12/dist-packages/torchvision/models/_utils.py:223: UserWarning: Arguments other than a weight enum or `None` for 'weights' are deprecated since 0.13 and may be removed in the future. The current behavior is equivalent to passing `weights=ResNet101_Weights.IMAGENET1K_V1`. You can also use `weights=ResNet101_Weights.DEFAULT` to get the most up-to-date weights.\n",
            "  warnings.warn(msg)\n",
            "/usr/local/lib/python3.12/dist-packages/torch/nn/utils/weight_norm.py:144: FutureWarning: `torch.nn.utils.weight_norm` is deprecated in favor of `torch.nn.utils.parametrizations.weight_norm`.\n",
            "  WeightNorm.apply(module, name, dim)\n"
          ]
        },
        {
          "output_type": "error",
          "ename": "UnpicklingError",
          "evalue": "Weights only load failed. This file can still be loaded, to do so you have two options, \u001b[1mdo those steps only if you trust the source of the checkpoint\u001b[0m. \n\t(1) In PyTorch 2.6, we changed the default value of the `weights_only` argument in `torch.load` from `False` to `True`. Re-running `torch.load` with `weights_only` set to `False` will likely succeed, but it can result in arbitrary code execution. Do it only if you got the file from a trusted source.\n\t(2) Alternatively, to load with `weights_only=True` please check the recommended steps in the following error message.\n\tWeightsUnpickler error: Unsupported global: GLOBAL functools.partial was not an allowed global by default. Please use `torch.serialization.add_safe_globals([functools.partial])` or the `torch.serialization.safe_globals([functools.partial])` context manager to allowlist this global if you trust this class/function.\n\nCheck the documentation of torch.load to learn more about types accepted by default with weights_only https://pytorch.org/docs/stable/generated/torch.load.html.",
          "traceback": [
            "\u001b[0;31m---------------------------------------------------------------------------\u001b[0m",
            "\u001b[0;31mUnpicklingError\u001b[0m                           Traceback (most recent call last)",
            "\u001b[0;32m/tmp/ipython-input-1042895214.py\u001b[0m in \u001b[0;36m<cell line: 0>\u001b[0;34m()\u001b[0m\n\u001b[0;32m----> 1\u001b[0;31m \u001b[0mcolorizer\u001b[0m \u001b[0;34m=\u001b[0m \u001b[0mget_video_colorizer\u001b[0m\u001b[0;34m(\u001b[0m\u001b[0;34m)\u001b[0m\u001b[0;34m\u001b[0m\u001b[0;34m\u001b[0m\u001b[0m\n\u001b[0m",
            "\u001b[0;32m/content/DeOldify/deoldify/visualize.py\u001b[0m in \u001b[0;36mget_video_colorizer\u001b[0;34m(render_factor)\u001b[0m\n\u001b[1;32m    409\u001b[0m \u001b[0;34m\u001b[0m\u001b[0m\n\u001b[1;32m    410\u001b[0m \u001b[0;32mdef\u001b[0m \u001b[0mget_video_colorizer\u001b[0m\u001b[0;34m(\u001b[0m\u001b[0mrender_factor\u001b[0m\u001b[0;34m:\u001b[0m \u001b[0mint\u001b[0m \u001b[0;34m=\u001b[0m \u001b[0;36m21\u001b[0m\u001b[0;34m)\u001b[0m \u001b[0;34m->\u001b[0m \u001b[0mVideoColorizer\u001b[0m\u001b[0;34m:\u001b[0m\u001b[0;34m\u001b[0m\u001b[0;34m\u001b[0m\u001b[0m\n\u001b[0;32m--> 411\u001b[0;31m     \u001b[0;32mreturn\u001b[0m \u001b[0mget_stable_video_colorizer\u001b[0m\u001b[0;34m(\u001b[0m\u001b[0mrender_factor\u001b[0m\u001b[0;34m=\u001b[0m\u001b[0mrender_factor\u001b[0m\u001b[0;34m)\u001b[0m\u001b[0;34m\u001b[0m\u001b[0;34m\u001b[0m\u001b[0m\n\u001b[0m\u001b[1;32m    412\u001b[0m \u001b[0;34m\u001b[0m\u001b[0m\n\u001b[1;32m    413\u001b[0m \u001b[0;34m\u001b[0m\u001b[0m\n",
            "\u001b[0;32m/content/DeOldify/deoldify/visualize.py\u001b[0m in \u001b[0;36mget_stable_video_colorizer\u001b[0;34m(root_folder, weights_name, results_dir, render_factor)\u001b[0m\n\u001b[1;32m    430\u001b[0m     \u001b[0mrender_factor\u001b[0m\u001b[0;34m:\u001b[0m \u001b[0mint\u001b[0m \u001b[0;34m=\u001b[0m \u001b[0;36m21\u001b[0m\u001b[0;34m\u001b[0m\u001b[0;34m\u001b[0m\u001b[0m\n\u001b[1;32m    431\u001b[0m ) -> VideoColorizer:\n\u001b[0;32m--> 432\u001b[0;31m     \u001b[0mlearn\u001b[0m \u001b[0;34m=\u001b[0m \u001b[0mgen_inference_wide\u001b[0m\u001b[0;34m(\u001b[0m\u001b[0mroot_folder\u001b[0m\u001b[0;34m=\u001b[0m\u001b[0mroot_folder\u001b[0m\u001b[0;34m,\u001b[0m \u001b[0mweights_name\u001b[0m\u001b[0;34m=\u001b[0m\u001b[0mweights_name\u001b[0m\u001b[0;34m)\u001b[0m\u001b[0;34m\u001b[0m\u001b[0;34m\u001b[0m\u001b[0m\n\u001b[0m\u001b[1;32m    433\u001b[0m     \u001b[0mfiltr\u001b[0m \u001b[0;34m=\u001b[0m \u001b[0mMasterFilter\u001b[0m\u001b[0;34m(\u001b[0m\u001b[0;34m[\u001b[0m\u001b[0mColorizerFilter\u001b[0m\u001b[0;34m(\u001b[0m\u001b[0mlearn\u001b[0m\u001b[0;34m=\u001b[0m\u001b[0mlearn\u001b[0m\u001b[0;34m)\u001b[0m\u001b[0;34m]\u001b[0m\u001b[0;34m,\u001b[0m \u001b[0mrender_factor\u001b[0m\u001b[0;34m=\u001b[0m\u001b[0mrender_factor\u001b[0m\u001b[0;34m)\u001b[0m\u001b[0;34m\u001b[0m\u001b[0;34m\u001b[0m\u001b[0m\n\u001b[1;32m    434\u001b[0m     \u001b[0mvis\u001b[0m \u001b[0;34m=\u001b[0m \u001b[0mModelImageVisualizer\u001b[0m\u001b[0;34m(\u001b[0m\u001b[0mfiltr\u001b[0m\u001b[0;34m,\u001b[0m \u001b[0mresults_dir\u001b[0m\u001b[0;34m=\u001b[0m\u001b[0mresults_dir\u001b[0m\u001b[0;34m)\u001b[0m\u001b[0;34m\u001b[0m\u001b[0;34m\u001b[0m\u001b[0m\n",
            "\u001b[0;32m/content/DeOldify/deoldify/generators.py\u001b[0m in \u001b[0;36mgen_inference_wide\u001b[0;34m(root_folder, weights_name, nf_factor, arch)\u001b[0m\n\u001b[1;32m     17\u001b[0m     )\n\u001b[1;32m     18\u001b[0m     \u001b[0mlearn\u001b[0m\u001b[0;34m.\u001b[0m\u001b[0mpath\u001b[0m \u001b[0;34m=\u001b[0m \u001b[0mroot_folder\u001b[0m\u001b[0;34m\u001b[0m\u001b[0;34m\u001b[0m\u001b[0m\n\u001b[0;32m---> 19\u001b[0;31m     \u001b[0mlearn\u001b[0m\u001b[0;34m.\u001b[0m\u001b[0mload\u001b[0m\u001b[0;34m(\u001b[0m\u001b[0mweights_name\u001b[0m\u001b[0;34m)\u001b[0m\u001b[0;34m\u001b[0m\u001b[0;34m\u001b[0m\u001b[0m\n\u001b[0m\u001b[1;32m     20\u001b[0m     \u001b[0mlearn\u001b[0m\u001b[0;34m.\u001b[0m\u001b[0mmodel\u001b[0m\u001b[0;34m.\u001b[0m\u001b[0meval\u001b[0m\u001b[0;34m(\u001b[0m\u001b[0;34m)\u001b[0m\u001b[0;34m\u001b[0m\u001b[0;34m\u001b[0m\u001b[0m\n\u001b[1;32m     21\u001b[0m     \u001b[0;32mreturn\u001b[0m \u001b[0mlearn\u001b[0m\u001b[0;34m\u001b[0m\u001b[0;34m\u001b[0m\u001b[0m\n",
            "\u001b[0;32m/content/DeOldify/fastai/basic_train.py\u001b[0m in \u001b[0;36mload\u001b[0;34m(self, file, device, strict, with_opt, purge, remove_module)\u001b[0m\n\u001b[1;32m    265\u001b[0m              with_opt:bool=None, purge:bool=True, remove_module:bool=False):\n\u001b[1;32m    266\u001b[0m         \u001b[0;34m\"Load model and optimizer state (if `with_opt`) `file` from `self.model_dir` using `device`. `file` can be file-like (file or buffer)\"\u001b[0m\u001b[0;34m\u001b[0m\u001b[0;34m\u001b[0m\u001b[0m\n\u001b[0;32m--> 267\u001b[0;31m         \u001b[0;32mif\u001b[0m \u001b[0mpurge\u001b[0m\u001b[0;34m:\u001b[0m \u001b[0mself\u001b[0m\u001b[0;34m.\u001b[0m\u001b[0mpurge\u001b[0m\u001b[0;34m(\u001b[0m\u001b[0mclear_opt\u001b[0m\u001b[0;34m=\u001b[0m\u001b[0mifnone\u001b[0m\u001b[0;34m(\u001b[0m\u001b[0mwith_opt\u001b[0m\u001b[0;34m,\u001b[0m \u001b[0;32mFalse\u001b[0m\u001b[0;34m)\u001b[0m\u001b[0;34m)\u001b[0m\u001b[0;34m\u001b[0m\u001b[0;34m\u001b[0m\u001b[0m\n\u001b[0m\u001b[1;32m    268\u001b[0m         \u001b[0;32mif\u001b[0m \u001b[0mdevice\u001b[0m \u001b[0;32mis\u001b[0m \u001b[0;32mNone\u001b[0m\u001b[0;34m:\u001b[0m \u001b[0mdevice\u001b[0m \u001b[0;34m=\u001b[0m \u001b[0mself\u001b[0m\u001b[0;34m.\u001b[0m\u001b[0mdata\u001b[0m\u001b[0;34m.\u001b[0m\u001b[0mdevice\u001b[0m\u001b[0;34m\u001b[0m\u001b[0;34m\u001b[0m\u001b[0m\n\u001b[1;32m    269\u001b[0m         \u001b[0;32melif\u001b[0m \u001b[0misinstance\u001b[0m\u001b[0;34m(\u001b[0m\u001b[0mdevice\u001b[0m\u001b[0;34m,\u001b[0m \u001b[0mint\u001b[0m\u001b[0;34m)\u001b[0m\u001b[0;34m:\u001b[0m \u001b[0mdevice\u001b[0m \u001b[0;34m=\u001b[0m \u001b[0mtorch\u001b[0m\u001b[0;34m.\u001b[0m\u001b[0mdevice\u001b[0m\u001b[0;34m(\u001b[0m\u001b[0;34m'cuda'\u001b[0m\u001b[0;34m,\u001b[0m \u001b[0mdevice\u001b[0m\u001b[0;34m)\u001b[0m\u001b[0;34m\u001b[0m\u001b[0;34m\u001b[0m\u001b[0m\n",
            "\u001b[0;32m/content/DeOldify/fastai/basic_train.py\u001b[0m in \u001b[0;36mpurge\u001b[0;34m(self, clear_opt)\u001b[0m\n\u001b[1;32m    320\u001b[0m         \u001b[0;32mfor\u001b[0m \u001b[0ma\u001b[0m \u001b[0;32min\u001b[0m \u001b[0mattrs_del\u001b[0m\u001b[0;34m:\u001b[0m \u001b[0mdelattr\u001b[0m\u001b[0;34m(\u001b[0m\u001b[0mself\u001b[0m\u001b[0;34m,\u001b[0m \u001b[0ma\u001b[0m\u001b[0;34m)\u001b[0m\u001b[0;34m\u001b[0m\u001b[0;34m\u001b[0m\u001b[0m\n\u001b[1;32m    321\u001b[0m         \u001b[0mgc\u001b[0m\u001b[0;34m.\u001b[0m\u001b[0mcollect\u001b[0m\u001b[0;34m(\u001b[0m\u001b[0;34m)\u001b[0m\u001b[0;34m\u001b[0m\u001b[0;34m\u001b[0m\u001b[0m\n\u001b[0;32m--> 322\u001b[0;31m         \u001b[0mstate\u001b[0m \u001b[0;34m=\u001b[0m \u001b[0mtorch\u001b[0m\u001b[0;34m.\u001b[0m\u001b[0mload\u001b[0m\u001b[0;34m(\u001b[0m\u001b[0mtmp_file\u001b[0m\u001b[0;34m)\u001b[0m\u001b[0;34m\u001b[0m\u001b[0;34m\u001b[0m\u001b[0m\n\u001b[0m\u001b[1;32m    323\u001b[0m         \u001b[0mos\u001b[0m\u001b[0;34m.\u001b[0m\u001b[0mremove\u001b[0m\u001b[0;34m(\u001b[0m\u001b[0mtmp_file\u001b[0m\u001b[0;34m)\u001b[0m\u001b[0;34m\u001b[0m\u001b[0;34m\u001b[0m\u001b[0m\n\u001b[1;32m    324\u001b[0m \u001b[0;34m\u001b[0m\u001b[0m\n",
            "\u001b[0;32m/usr/local/lib/python3.12/dist-packages/torch/serialization.py\u001b[0m in \u001b[0;36mload\u001b[0;34m(f, map_location, pickle_module, weights_only, mmap, **pickle_load_args)\u001b[0m\n\u001b[1;32m   1527\u001b[0m                         )\n\u001b[1;32m   1528\u001b[0m                     \u001b[0;32mexcept\u001b[0m \u001b[0mpickle\u001b[0m\u001b[0;34m.\u001b[0m\u001b[0mUnpicklingError\u001b[0m \u001b[0;32mas\u001b[0m \u001b[0me\u001b[0m\u001b[0;34m:\u001b[0m\u001b[0;34m\u001b[0m\u001b[0;34m\u001b[0m\u001b[0m\n\u001b[0;32m-> 1529\u001b[0;31m                         \u001b[0;32mraise\u001b[0m \u001b[0mpickle\u001b[0m\u001b[0;34m.\u001b[0m\u001b[0mUnpicklingError\u001b[0m\u001b[0;34m(\u001b[0m\u001b[0m_get_wo_message\u001b[0m\u001b[0;34m(\u001b[0m\u001b[0mstr\u001b[0m\u001b[0;34m(\u001b[0m\u001b[0me\u001b[0m\u001b[0;34m)\u001b[0m\u001b[0;34m)\u001b[0m\u001b[0;34m)\u001b[0m \u001b[0;32mfrom\u001b[0m \u001b[0;32mNone\u001b[0m\u001b[0;34m\u001b[0m\u001b[0;34m\u001b[0m\u001b[0m\n\u001b[0m\u001b[1;32m   1530\u001b[0m                 return _load(\n\u001b[1;32m   1531\u001b[0m                     \u001b[0mopened_zipfile\u001b[0m\u001b[0;34m,\u001b[0m\u001b[0;34m\u001b[0m\u001b[0;34m\u001b[0m\u001b[0m\n",
            "\u001b[0;31mUnpicklingError\u001b[0m: Weights only load failed. This file can still be loaded, to do so you have two options, \u001b[1mdo those steps only if you trust the source of the checkpoint\u001b[0m. \n\t(1) In PyTorch 2.6, we changed the default value of the `weights_only` argument in `torch.load` from `False` to `True`. Re-running `torch.load` with `weights_only` set to `False` will likely succeed, but it can result in arbitrary code execution. Do it only if you got the file from a trusted source.\n\t(2) Alternatively, to load with `weights_only=True` please check the recommended steps in the following error message.\n\tWeightsUnpickler error: Unsupported global: GLOBAL functools.partial was not an allowed global by default. Please use `torch.serialization.add_safe_globals([functools.partial])` or the `torch.serialization.safe_globals([functools.partial])` context manager to allowlist this global if you trust this class/function.\n\nCheck the documentation of torch.load to learn more about types accepted by default with weights_only https://pytorch.org/docs/stable/generated/torch.load.html."
          ]
        }
      ],
      "source": [
        "colorizer = get_video_colorizer()"
      ]
    },
    {
      "cell_type": "code",
      "metadata": {
        "colab": {
          "base_uri": "https://localhost:8080/"
        },
        "id": "a6de4b0f",
        "outputId": "fd740868-6b21-455f-9413-dda02ca6c069"
      },
      "source": [
        "# This command searches for DeOldify on GitHub, which is the likely source for updates.\n",
        "# You can also try searching on pip or other package managers if you know the package name.\n",
        "!git ls-remote --tags --heads https://github.com/jantic/DeOldify.git"
      ],
      "execution_count": 13,
      "outputs": [
        {
          "output_type": "stream",
          "name": "stdout",
          "text": [
            "abbb54fe030c8b651815865488271544fd20d508\trefs/heads/jantic-patch-1\n",
            "cb1f7077e3a06d9d7e58e7525497ad0f44c7e56f\trefs/heads/jantic-patch-2\n",
            "5f86c28923799036ad4b1bf7af8c629ac65efd75\trefs/heads/master\n",
            "e52639d51d08e7009e0094cd0c555af9cb6df6e1\trefs/heads/show_results_fix\n"
          ]
        }
      ]
    },
    {
      "cell_type": "markdown",
      "metadata": {
        "id": "gAflsnVGSqgK"
      },
      "source": [
        "#◢ Instructions"
      ]
    },
    {
      "cell_type": "markdown",
      "metadata": {
        "id": "ZTe01b8kSqgL"
      },
      "source": [
        "### source_url\n",
        "Type in a url hosting a video from YouTube, Imgur, Twitter, Reddit, Vimeo, etc.  Many sources work!  GIFs also work.  Full list here: https://ytdl-org.github.io/youtube-dl/supportedsites.html NOTE: If you want to use your own video, upload it first to a site like YouTube.\n",
        "\n",
        "### render_factor\n",
        "The default value of 21 has been carefully chosen and should work -ok- for most scenarios (but probably won't be the -best-). This determines resolution at which the color portion of the video is rendered. Lower resolution will render faster, and colors also tend to look more vibrant. Older and lower quality film in particular will generally benefit by lowering the render factor. Higher render factors are often better for higher quality videos and inconsistencies (flashy render) will generally be reduced, but the colors may get slightly washed out.\n",
        "\n",
        "### watermarked\n",
        "Selected by default, this places a watermark icon of a palette at the bottom left corner of the image.  This is intended to be a standard way to convey to others viewing the image that it is colorized by AI. We want to help promote this as a standard, especially as the technology continues to improve and the distinction between real and fake becomes harder to discern. This palette watermark practice was initiated and lead by the company MyHeritage in the MyHeritage In Color feature (which uses a newer version of DeOldify than what you're using here).\n",
        "\n",
        "### How to Download a Copy\n",
        "Simply right click on the displayed video and click \"Save video as...\"!\n",
        "\n",
        "## Pro Tips\n",
        "1. If a video takes a long time to render and you're wondering how well the frames will actually be colorized, you can preview how well the frames will be rendered at each render_factor by using the code at the bottom. Just stop the video rendering by hitting the stop button on the cell, then run that bottom cell under \"See how well render_factor values perform on a frame here\". It's not perfect and you may still need to experiment a bit especially when it comes to figuring out how to reduce frame inconsistency.  But it'll go a long way in narrowing down what actually works.\n",
        "2. If videos are taking way too much time for your liking, running the Jupyter notebook VideoColorizer.ipynb on your own machine (with DeOldify installed) will generally be much faster (as long as you have the hardware for it).   \n",
        "3. Longer videos (running multiple minutes) are going to have a rough time on Colabs. You'll be much better off using a local install of DeOldify instead in this case.\n",
        "\n",
        "## Troubleshooting\n",
        "The video player may wind up not showing up, in which case- make sure to wait for the Jupyter cell to complete processing first (the play button will stop spinning).  Then follow these alternative download instructions\n",
        "\n",
        "1. In the menu to the left, click Files\n",
        "2. If you don't see the 'DeOldify' folder, click \"Refresh\"\n",
        "3. By default, rendered video will be in /DeOldify/video/result/\n",
        "\n",
        "If a video you downloaded doesn't play, it's probably because the cell didn't complete processing and the video is in a half-finished state."
      ]
    },
    {
      "cell_type": "markdown",
      "metadata": {
        "id": "sUQrbSYipiJn"
      },
      "source": [
        "#◢ Colorize!!"
      ]
    },
    {
      "cell_type": "code",
      "execution_count": 15,
      "metadata": {
        "colab": {
          "base_uri": "https://localhost:8080/",
          "height": 269
        },
        "id": "2hLybeC5SqgL",
        "outputId": "3f0e323e-294f-4b82-ed1c-31a075003baf"
      },
      "outputs": [
        {
          "output_type": "error",
          "ename": "NameError",
          "evalue": "name 'colorizer' is not defined",
          "traceback": [
            "\u001b[0;31m---------------------------------------------------------------------------\u001b[0m",
            "\u001b[0;31mNameError\u001b[0m                                 Traceback (most recent call last)",
            "\u001b[0;32m/tmp/ipython-input-2617939640.py\u001b[0m in \u001b[0;36m<cell line: 0>\u001b[0;34m()\u001b[0m\n\u001b[1;32m      4\u001b[0m \u001b[0;34m\u001b[0m\u001b[0m\n\u001b[1;32m      5\u001b[0m \u001b[0;32mif\u001b[0m \u001b[0msource_url\u001b[0m \u001b[0;32mis\u001b[0m \u001b[0;32mnot\u001b[0m \u001b[0;32mNone\u001b[0m \u001b[0;32mand\u001b[0m \u001b[0msource_url\u001b[0m \u001b[0;34m!=\u001b[0m\u001b[0;34m''\u001b[0m\u001b[0;34m:\u001b[0m\u001b[0;34m\u001b[0m\u001b[0;34m\u001b[0m\u001b[0m\n\u001b[0;32m----> 6\u001b[0;31m     \u001b[0mvideo_path\u001b[0m \u001b[0;34m=\u001b[0m \u001b[0mcolorizer\u001b[0m\u001b[0;34m.\u001b[0m\u001b[0mcolorize_from_url\u001b[0m\u001b[0;34m(\u001b[0m\u001b[0msource_url\u001b[0m\u001b[0;34m,\u001b[0m \u001b[0;34m'video.mp4'\u001b[0m\u001b[0;34m,\u001b[0m \u001b[0mrender_factor\u001b[0m\u001b[0;34m,\u001b[0m \u001b[0mwatermarked\u001b[0m\u001b[0;34m=\u001b[0m\u001b[0mwatermarked\u001b[0m\u001b[0;34m)\u001b[0m\u001b[0;34m\u001b[0m\u001b[0;34m\u001b[0m\u001b[0m\n\u001b[0m\u001b[1;32m      7\u001b[0m     \u001b[0mshow_video_in_notebook\u001b[0m\u001b[0;34m(\u001b[0m\u001b[0mvideo_path\u001b[0m\u001b[0;34m)\u001b[0m\u001b[0;34m\u001b[0m\u001b[0;34m\u001b[0m\u001b[0m\n\u001b[1;32m      8\u001b[0m \u001b[0;32melse\u001b[0m\u001b[0;34m:\u001b[0m\u001b[0;34m\u001b[0m\u001b[0;34m\u001b[0m\u001b[0m\n",
            "\u001b[0;31mNameError\u001b[0m: name 'colorizer' is not defined"
          ]
        }
      ],
      "source": [
        "source_url = 'https://drive.google.com/file/d/1R9fLohBd9OXO8qknrmH2g5UM4OuU3keT/view?usp=drive_link' #@param {type:\"string\"}\n",
        "render_factor = 35  #@param {type: \"slider\", min: 5, max: 40}\n",
        "watermarked = False #@param {type:\"boolean\"}\n",
        "\n",
        "if source_url is not None and source_url !='':\n",
        "    video_path = colorizer.colorize_from_url(source_url, 'video.mp4', render_factor, watermarked=watermarked)\n",
        "    show_video_in_notebook(video_path)\n",
        "else:\n",
        "    print('Provide a video url and try again.')"
      ]
    },
    {
      "cell_type": "markdown",
      "metadata": {
        "id": "VYYPLQ_KSqgL"
      },
      "source": [
        "## See how well render_factor values perform on a frame here"
      ]
    },
    {
      "cell_type": "code",
      "execution_count": null,
      "metadata": {
        "id": "m87dlGxZSqgL"
      },
      "outputs": [],
      "source": [
        "for i in range(10,40,2):\n",
        "    colorizer.vis.plot_transformed_image('video/bwframes/video/00001.jpg', render_factor=i, display_render_factor=True, figsize=(8,8))"
      ]
    },
    {
      "cell_type": "markdown",
      "metadata": {
        "id": "X7Ycv_Y9xAHp"
      },
      "source": [
        "---\n",
        "#⚙ Recommended video and gif sources\n",
        "* [/r/Nickelodeons/](https://www.reddit.com/r/Nickelodeons/)\n",
        "* [r/silentmoviegifs](https://www.reddit.com/r/silentmoviegifs/)\n",
        "* https://twitter.com/silentmoviegifs"
      ]
    }
  ],
  "metadata": {
    "accelerator": "GPU",
    "colab": {
      "name": "VideoColorizerColab.ipynb",
      "provenance": [],
      "toc_visible": true,
      "gpuType": "T4",
      "include_colab_link": true
    },
    "kernelspec": {
      "display_name": "Python 3",
      "name": "python3"
    },
    "language_info": {
      "codemirror_mode": {
        "name": "ipython",
        "version": 3
      },
      "file_extension": ".py",
      "mimetype": "text/x-python",
      "name": "python",
      "nbconvert_exporter": "python",
      "pygments_lexer": "ipython3",
      "version": "3.7.6"
    }
  },
  "nbformat": 4,
  "nbformat_minor": 0
}